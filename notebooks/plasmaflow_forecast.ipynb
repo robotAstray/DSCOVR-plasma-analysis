{
 "cells": [
  {
   "cell_type": "markdown",
   "metadata": {},
   "source": [
    "# **Near Real-time Plasma Flow Analysis using DSCOVR Data**\n",
    "\n",
    "DSCOVR continues to operate beyond its expected lifespan, occasionally producing hardware faults that may result from space weather events. In this notebook, we analyze raw data from NASA's DSCOVR mission to forecast geomagnetic storms, taking into account hardware faults.\n",
    "\n",
    "For this project, we draw upon prior research, specifically:\n",
    "\n",
    "- *i.* [Prominence of the training data preparation in geomagnetic storm prediction using deep neural networks](https://www.nature.com/articles/s41598-022-11721-8)\n",
    "- *ii.* [Prediction of Geomagnetic Storm Using Neural Networks:Comparison of the Efficiency of the Satellite and GroundBased Input Parameters](https://iopscience.iop.org/article/10.1088/1742-6596/134/1/012041/pdf)\n",
    "\n",
    "Our objective is to implement the model in a real-time or near real-time environment, enabling us to process DSCOVR data and make predictions.\n",
    "\n",
    "## **Understanding Solar Wind**\n",
    "\n",
    "Solar wind frequently interacts with Earth's magnetosphere, leading to geomagnetic storms that can disrupt various technologies, including satellites and electrical power grids. Consequently, the National Oceanic and Atmospheric Administration (NOAA) operates a space weather station known as the Deep Space Climate Observatory (DSCOVR). DSCOVR employs various sensors to facilitate the prediction of these storms by gathering data on the speed, temperature, and density of incoming solar plasma.\n",
    "\n",
    "DSCOVR orbits at a unique location, Lagrange point one, situated 1.5 million kilometers from Earth between the Earth and the Sun. This strategic position allows it to record data on incoming solar plasma before it reaches Earth's vicinity. NOAA leverages this data to simulate the state of Earth's magnetic field and atmosphere, potentially providing early warnings of geomagnetic storms.\n",
    "\n",
    "In general, the $D_{st}$ index is used to measure geomagnetic activity. By utilizing solar wind parameters and magnetic field data, we may be able to predict the $D_{st}$ index. Previous studies suggest using interplanetary parameters as inputs [[1]](https://www.nature.com/articles/s41598-022-11721-8), such as the interplanetary magnetic field ($IMF$), solar wind ($SW$), and in some studies, the IMF $B_z$ component, $SW$ electric field, temperature, speed, and density.\n",
    "\n",
    "In any event, the most crucial aspect is the data preparation for training and validation, as it plays a significant role in ensuring optimal ML model performance.\n",
    "\n",
    "### **References**\n",
    "[1] [Prominence of the training data preparation in geomagnetic storm prediction using deep neural networks](https://www.nature.com/articles/s41598-022-11721-8)\n",
    "- [DSCOVR: Deep Space Climate Observatory](https://www.nesdis.noaa.gov/current-satellite-missions/currently-flying/dscovr-deep-space-climate-observatory)\n",
    "- [DSCOVR (Deep Space Climate Observatory) -eoPortal](https://www.eoportal.org/satellite-missions/dscovr)\n",
    "- [Deep Space Climate Observatory (DSCOVR)](https://www.nist.gov/measuring-cosmos/deep-space-climate-observatory-dscovr)\n",
    "\n",
    "## **Data Resources**\n",
    "\n",
    "For this project, we will directly utilize raw DSCOVR data as input. Given our objective of building a near-real-time system, we have opted to integrate the most recent data by implementing a function that can download datasets from the [Experimental Data Repository](https://www.spaceappschallenge.org/develop-the-oracle-of-dscovr-experimental-data-repository/).\n",
    "\n",
    "These datasets encompass data starting from 2016 and continue to receive updates to the present day. They will be stored in the `dataset` folder. Each `.csv` file contains 53 columns, with column 0 representing the time in UTC in the following format:  `YYYY-MM-DD hh:mm:ss`. Columns 1-3 correspond to the magnetic field components measured in nanoteslas (nT) at the time indicated in column 0. The remaining columns contain dimensional measurements from the Faraday cup plasma detector.\n",
    "\n",
    "## **Data Retrieval and Preprocessing**\n",
    "\n",
    "For this prototype, we utilise the experimental data provided during the competition. It is worth noting that in a real-time production environment, the functionality of the following function can be extended to facilitate the real-time acquisition and storage of data in a MongoDB database for efficient retrieval and processing.\n",
    "\n",
    "A virtual environment was created and the required libraries were installed to develop this project. Navigate to the project folder and type the following:\n",
    "\n",
    "```\n",
    "python -m venv ./venv\n",
    "\n",
    "pip install -r requirements.txt\n",
    "\n",
    "``` \n",
    "\n",
    "To activate the virtual environment please type:\n",
    "\n",
    "```\n",
    "source ./venv/bin/activate\n",
    "```"
   ]
  },
  {
   "cell_type": "code",
   "execution_count": null,
   "metadata": {},
   "outputs": [],
   "source": [
    "# importing required libraries\n"
   ]
  },
  {
   "cell_type": "markdown",
   "metadata": {},
   "source": []
  }
 ],
 "metadata": {
  "language_info": {
   "name": "python"
  },
  "orig_nbformat": 4
 },
 "nbformat": 4,
 "nbformat_minor": 2
}
